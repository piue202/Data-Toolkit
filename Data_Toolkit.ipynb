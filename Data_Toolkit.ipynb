{
  "nbformat": 4,
  "nbformat_minor": 0,
  "metadata": {
    "colab": {
      "provenance": []
    },
    "kernelspec": {
      "name": "python3",
      "display_name": "Python 3"
    },
    "language_info": {
      "name": "python"
    }
  },
  "cells": [
    {
      "cell_type": "markdown",
      "source": [
        "# Assignment Questions\n"
      ],
      "metadata": {
        "id": "KfqYnYLyQ0CH"
      }
    },
    {
      "cell_type": "markdown",
      "source": [
        "# What is NumPy, and why is it widely used in Python?\n",
        " - NumPy (Numerical Python) is a library for working with arrays and mathematical operations in Python. It's widely used due to its:\n",
        "\n",
        "1. Efficient array operations: NumPy arrays are faster and more memory-efficient than Python lists.\n",
        "2. Vectorized operations: NumPy allows you to perform operations on entire arrays at once, reducing the need for loops.\n",
        "3. Mathematical functions: NumPy provides a wide range of mathematical functions for tasks like linear algebra, statistics, and random number generation.\n",
        "\n"
      ],
      "metadata": {
        "id": "fLGLX5RrQ4Ap"
      }
    },
    {
      "cell_type": "markdown",
      "source": [
        "# How does broadcasting work in NumPy?\n",
        "  -Broadcasting in NumPy is a powerful feature that allows you to perform operations on arrays with different shapes and sizes. Here's how it works:\n",
        "\n",
        "Basic Rules\n",
        "1. If the two arrays differ in their number of dimensions, the shape of the one with fewer dimensions is padded with ones on its leading (left) side.\n",
        "2. If the shape of two arrays does not match in a particular dimension, the size in that dimension of the array with size one is \"broadcasted\" to match the size of the other array."
      ],
      "metadata": {
        "id": "o6mqDNqjRDdE"
      }
    },
    {
      "cell_type": "markdown",
      "source": [
        "# What is a Pandas DataFrame?\n",
        " -A Pandas DataFrame is a two-dimensional data structure in Python's Pandas library, used to store and manipulate tabular data. It's similar to an Excel spreadsheet or a table in a relational database.\n",
        "\n",
        "Key Features\n",
        "1. Tabular data: DataFrames store data in rows and columns, making it easy to access and manipulate.\n",
        "2. Column labels: Each column has a label, allowing for easy selection and manipulation of specific columns.\n",
        "3. Row labels: Each row has a label (index), enabling efficient selection and manipulation of specific rows.\n",
        "4. Data types: DataFrames can store various data types, including numeric, string, and datetime values."
      ],
      "metadata": {
        "id": "42uctoWJROON"
      }
    },
    {
      "cell_type": "markdown",
      "source": [
        "# Explain the use of the groupby() method in Pandas.\n",
        "  -The groupby() method in Pandas is used to group a DataFrame by one or more columns and perform various operations on the grouped data.\n",
        "\n",
        "Basic Syntax\n",
        "\n",
        "df.groupby(by=None, axis=0, level=None, as_index=True, sort=True)\n",
        "\n",
        "\n",
        "How it Works\n",
        "1. Grouping: The groupby() method groups the DataFrame by the specified column(s).\n",
        "2. Operations: After grouping, you can perform various operations on the grouped data, such as aggregation, filtering, or transformation."
      ],
      "metadata": {
        "id": "XDa-txBMRZ50"
      }
    },
    {
      "cell_type": "markdown",
      "source": [
        "# Why is Seaborn preferred for statistical visualizations?\n",
        "  - Seaborn is preferred for statistical visualizations because it:\n",
        "\n",
        "1. Integrates well with Matplotlib: Seaborn is built on top of Matplotlib, making it easy to use and customize.\n",
        "2. High-level abstractions: Seaborn provides high-level functions for creating informative and attractive statistical graphics.\n",
        "3. Attractive visualizations: Seaborn offers a range of visualization tools with attractive default styles.\n",
        "4. Handles complex data: Seaborn can handle complex data and create visualizations that reveal underlying patterns and relationships.\n"
      ],
      "metadata": {
        "id": "pAkmUw2yRkVw"
      }
    },
    {
      "cell_type": "markdown",
      "source": [
        "# What are the differences between NumPy arrays and Python lists?\n",
        "  - NumPy arrays and Python lists are both data structures used to store collections of elements, but they have distinct differences:\n",
        "\n",
        "Key Differences\n",
        "1. Data Type: NumPy arrays are homogeneous, meaning all elements must be of the same data type. Python lists are heterogeneous, allowing elements of different data types.\n",
        "2. Memory Efficiency: NumPy arrays are more memory-efficient than Python lists, especially for large datasets.\n",
        "3. Performance: NumPy arrays provide faster performance for numerical computations due to vectorized operations.\n",
        "4. Operations: NumPy arrays support element-wise operations and matrix operations, making them ideal for scientific computing."
      ],
      "metadata": {
        "id": "I1kcj6kpRvAQ"
      }
    },
    {
      "cell_type": "markdown",
      "source": [
        "# What is a heatmap, and when should it be used?\n",
        "  - A heatmap is a graphical representation of data where values are depicted by color. It's used to visualize:\n",
        "\n",
        "1. Correlation matrices: Show relationships between variables.\n",
        "2. Density plots: Display distribution of data points.\n",
        "3. Matrix data: Visualize data in a matrix format.\n",
        "\n",
        "When to Use Heatmaps\n",
        "1. Identifying patterns: Heatmaps help identify patterns, trends, and correlations in data.\n",
        "2. Visualizing relationships: Heatmaps are useful for visualizing relationships between variables.\n",
        "3. Comparing data: Heatmaps can compare data across different categories or time periods.\n"
      ],
      "metadata": {
        "id": "BVkKiA7YR0hi"
      }
    },
    {
      "cell_type": "markdown",
      "source": [
        "# What does the term “vectorized operation” mean in NumPy?\n",
        "  - once, without the need for explicit loops.\n",
        "\n",
        "Key Benefits\n",
        "1. Faster performance: Vectorized operations are much faster than using loops.\n",
        "2. Concise code: Vectorized operations allow for more concise and readable code.\n",
        "3. Efficient computation: Vectorized operations are optimized for performance and memory usage.\n"
      ],
      "metadata": {
        "id": "1P9l3tQ8R7D6"
      }
    },
    {
      "cell_type": "markdown",
      "source": [
        "# How does Matplotlib differ from Plotly?\n",
        "  - Matplotlib and Plotly are both popular data visualization libraries in Python, but they differ in several ways:\n",
        "\n",
        "Matplotlib\n",
        "1. Static visualizations: Matplotlib is primarily used for creating static, 2D, and 3D plots.\n",
        "2. Customization: Matplotlib offers extensive customization options for plots.\n",
        "3. Maturity: Matplotlib is a mature library with a large user base.\n",
        "\n",
        "Plotly\n",
        "1. Interactive visualizations: Plotly is known for creating interactive, web-based visualizations.\n",
        "2. Dynamic plots: Plotly allows users to hover over data points, zoom in/out, and more.\n",
        "3. Web-based: Plotly visualizations can be easily shared and embedded in web applications.\n"
      ],
      "metadata": {
        "id": "AZ8Jxsg0SAO2"
      }
    },
    {
      "cell_type": "markdown",
      "source": [
        "# What is the significance of hierarchical indexing in Pandas?\n",
        "  - Hierarchical indexing, also known as MultiIndexing, is a feature in Pandas that allows you to have multiple levels of indexing on a single axis. This enables more complex data analysis and manipulation.\n",
        "\n",
        "Significance\n",
        "1. Handling complex data: Hierarchical indexing helps handle complex data structures with multiple categories or dimensions.\n",
        "2. Efficient data selection: It enables efficient selection and manipulation of data based on multiple criteria.\n",
        "3. Data aggregation: Hierarchical indexing facilitates data aggregation and grouping operations"
      ],
      "metadata": {
        "id": "sYtErMQmSO9-"
      }
    },
    {
      "cell_type": "markdown",
      "source": [
        "# What is the role of Seaborn’s pairplot() function?\n",
        "  - Seaborn's pairplot() function is used to create a matrix of pairwise scatterplots and histograms to visualize relationships between multiple variables in a dataset.\n",
        "\n",
        "Role\n",
        "1. Visualizing relationships: pairplot() helps visualize relationships between pairs of variables.\n",
        "2. Identifying patterns: It aids in identifying patterns, correlations, and distributions in the data.\n",
        "3. Exploring data: pairplot() is useful for exploratory data analysis, especially when dealing with multiple variables.\n"
      ],
      "metadata": {
        "id": "-wpBRR_BSUdv"
      }
    },
    {
      "cell_type": "markdown",
      "source": [
        "# What is the purpose of the describe() function in Pandas?\n",
        "  - The describe() function in Pandas is used to generate descriptive statistics for a DataFrame or Series.\n",
        "\n",
        "Purpose\n",
        "1. Summary statistics: describe() provides summary statistics, such as mean, median, mode, standard deviation, and quartiles.\n",
        "2. Data overview: It gives an overview of the central tendency, dispersion, and shape of the data.\n",
        "3. Data exploration: describe() is useful for exploratory data analysis, helping to understand the characteristics of the data.\n"
      ],
      "metadata": {
        "id": "zQxNYT9SSbo0"
      }
    },
    {
      "cell_type": "markdown",
      "source": [
        "# Why is handling missing data important in Pandas?\n",
        "  - Handling missing data is crucial in Pandas because:\n",
        "\n",
        "Importance\n",
        "1. Accurate analysis: Missing data can lead to biased or incorrect analysis results.\n",
        "2. Data quality: Handling missing data ensures data quality and reliability.\n",
        "3. Model performance: Missing data can negatively impact model performance and predictions.\n"
      ],
      "metadata": {
        "id": "8zoBBz1TSkcC"
      }
    },
    {
      "cell_type": "markdown",
      "source": [
        "# What are the benefits of using Plotly for data visualization?\n",
        " - Plotly offers several benefits for data visualization:\n",
        "\n",
        "Benefits\n",
        "1. Interactive visualizations: Plotly creates interactive plots that allow users to hover, zoom, and pan.\n",
        "2. Web-based: Plotly visualizations can be easily shared and embedded in web applications.\n",
        "3. 3D plots: Plotly supports 3D plots, enabling visualization of complex data.\n",
        "4. Customization: Plotly offers extensive customization options for plots.\n",
        "5. Collaboration: Plotly facilitates collaboration and sharing of visualizations."
      ],
      "metadata": {
        "id": "0sON5fCaSqzF"
      }
    },
    {
      "cell_type": "markdown",
      "source": [
        "# How does NumPy handle multidimensional arrays?\n",
        "\n",
        "  - NumPy handles multidimensional arrays through:\n",
        "\n",
        "Key Features\n",
        "1. ndarray: NumPy's core data structure is the ndarray, which can represent multidimensional arrays.\n",
        "2. Shape and size: NumPy arrays have a shape attribute that defines the number of dimensions and size of each dimension.\n",
        "3. Indexing and slicing: NumPy arrays support multidimensional indexing and slicing.\n",
        "\n",
        "Operations\n",
        "1. Element-wise operations: NumPy performs element-wise operations on multidimensional arrays.\n",
        "2. Matrix operations: NumPy supports matrix operations, such as matrix multiplication."
      ],
      "metadata": {
        "id": "0MRqgpyfS7Z5"
      }
    },
    {
      "cell_type": "markdown",
      "source": [
        "# What is the role of Bokeh in data visualization?\n",
        " - Bokeh is a data visualization library in Python that provides:\n",
        "\n",
        "Key Features\n",
        "1. Interactive visualizations: Bokeh creates interactive plots and dashboards.\n",
        "2. Web-based: Bokeh visualizations can be embedded in web applications.\n",
        "3. Customization: Bokeh offers extensive customization options.\n",
        "\n",
        "Role\n",
        "1. Data exploration: Bokeh's interactive visualizations aid in data exploration and discovery.\n",
        "2. Presentations: Bokeh's interactive plots enhance presentations and reports.\n",
        "3. Web applications: Bokeh's web-based visualizations integrate well with web applications.\n"
      ],
      "metadata": {
        "id": "o6iIygWRTImj"
      }
    },
    {
      "cell_type": "markdown",
      "source": [
        "# Explain the difference between apply() and map() in Pandas.\n",
        "  - In Pandas, apply() and map() are both used to apply functions to data, but they differ in their application scope and functionality:\n",
        "\n",
        "apply()\n",
        "1. Applies a function along an axis: apply() applies a function along the rows or columns of a DataFrame.\n",
        "2. More flexible: apply() is more flexible and can handle complex operations.\n",
        "\n",
        "map()\n",
        "1. Applies a function element-wise: map() applies a function element-wise to a Series.\n",
        "2. Faster for simple operations: map() is faster for simple operations, especially when working with dictionaries or functions.\n"
      ],
      "metadata": {
        "id": "6VXZ3ATVTL0n"
      }
    },
    {
      "cell_type": "markdown",
      "source": [
        "# What are some advanced features of NumPy?\n",
        "  - ome advanced features of NumPy include:\n",
        "\n",
        "Advanced Features\n",
        "1. Linear Algebra Operations: NumPy provides functions for various linear algebra operations, such as matrix multiplication (@ or np.matmul()), eigenvalue decomposition (np.linalg.eig()), and singular value decomposition (np.linalg.svd()).\n",
        "2. Random Number Generation: NumPy offers a range of functions for generating random numbers, including np.random.rand(), np.random.randn(), and np.random.choice().\n",
        "3. Advanced Indexing: NumPy supports advanced indexing techniques, such as boolean indexing, fancy indexing, and label-based indexing.\n",
        "4. Vectorized Operations: NumPy's vectorized operations enable efficient element-wise operations on arrays.\n",
        "5. Broadcasting: NumPy's broadcasting feature allows arrays with different shapes to be operated on element-wise.\n"
      ],
      "metadata": {
        "id": "-JGtIGjhTU7B"
      }
    },
    {
      "cell_type": "markdown",
      "source": [
        "# How does Pandas simplify time series analysis?\n",
        "  - Pandas simplifies time series analysis through:\n",
        "\n",
        "Key Features\n",
        "1. DateTimeIndex: Pandas' DateTimeIndex allows for efficient time-based indexing and selection.\n",
        "2. Resampling: Pandas provides resampling functions to convert time series data to different frequencies.\n",
        "3. Rolling and Expanding Windows: Pandas offers rolling and expanding window calculations for moving averages, standard deviations, and other statistics.\n",
        "4. Time Shifting: Pandas allows for time shifting operations, such as lagging or leading time series data.\n"
      ],
      "metadata": {
        "id": "y1I0NboXTcY3"
      }
    },
    {
      "cell_type": "markdown",
      "source": [
        "# What is the role of a pivot table in Pandas?\n",
        " - n Pandas, a pivot table is a data summarization tool that allows you to:\n",
        "\n",
        "Key Features\n",
        "1. Data aggregation: Pivot tables aggregate data based on specified columns.\n",
        "2. Data transformation: Pivot tables transform data from a long format to a wide format.\n",
        "\n",
        "Role\n",
        "1. Data analysis: Pivot tables aid in data analysis by summarizing and aggregating data.\n",
        "2. Data visualization: Pivot tables can be used as a precursor to data visualization.\n"
      ],
      "metadata": {
        "id": "6pqZWcbWTi93"
      }
    },
    {
      "cell_type": "markdown",
      "source": [
        "# A Why is NumPy’s array slicing faster than Python’s list slicing?\n",
        "  - NumPy's array slicing is faster than Python's list slicing due to:\n",
        "\n",
        "Key Reasons\n",
        "1. Memory Layout: NumPy arrays store data in a contiguous block of memory, allowing for efficient slicing.\n",
        "2. Vectorized Operations: NumPy's slicing operations are vectorized, meaning they operate on entire arrays at once.\n",
        "3. Less Overhead: NumPy arrays have less overhead compared to Python lists, which are dynamic and flexible.\n",
        "\n",
        "Benefits\n",
        "1. Faster Execution: NumPy's array slicing results in faster execution times.\n",
        "2. Efficient Memory Use: NumPy's memory layout and slicing operations enable efficient memory use.\n"
      ],
      "metadata": {
        "id": "Bn3_xpbpTsRr"
      }
    },
    {
      "cell_type": "markdown",
      "source": [
        "# What are some common use cases for Seaborn?\n",
        " - eaborn is a powerful data visualization library in Python, and some common use cases include:\n",
        "\n",
        "Use Cases\n",
        "1. Exploratory Data Analysis: Seaborn is ideal for exploratory data analysis, helping to understand the distribution of variables and relationships between them.\n",
        "2. Visualizing Statistical Relationships: Seaborn provides tools for visualizing statistical relationships, such as regression plots and heatmaps.\n",
        "3. Data Storytelling: Seaborn's visualizations can be used to tell stories about data, making it easier to communicate insights to others.\n",
        "4. Academic and Research Visualizations: Seaborn is widely used in academic and research settings for creating publication-quality visualizations.\n"
      ],
      "metadata": {
        "id": "FssgXN7aTyF-"
      }
    },
    {
      "cell_type": "markdown",
      "source": [
        "# Practical"
      ],
      "metadata": {
        "id": "lQvIHAxJT7uT"
      }
    },
    {
      "cell_type": "code",
      "source": [
        "import numpy as np\n",
        "# How do you create a 2D NumPy array and calculate the sum of each row?\n",
        "\n",
        "array_2d = np.array([[1, 2, 3], [4, 5, 6], [7, 8, 9]]) #Removed extra space before the statement\n",
        "print(array_2d)\n",
        "\n",
        "\n",
        "# Calculating the Sum of Each Row\n",
        "\n",
        "# Calculate the sum of each row\n",
        "row_sums = np.sum(array_2d, axis=1)\n",
        "print(row_sums)"
      ],
      "metadata": {
        "colab": {
          "base_uri": "https://localhost:8080/"
        },
        "id": "-gfIN5N_T9ot",
        "outputId": "b2f6d7fe-c3d9-4c61-b857-feec9798e914"
      },
      "execution_count": 2,
      "outputs": [
        {
          "output_type": "stream",
          "name": "stdout",
          "text": [
            "[[1 2 3]\n",
            " [4 5 6]\n",
            " [7 8 9]]\n",
            "[ 6 15 24]\n"
          ]
        }
      ]
    },
    {
      "cell_type": "code",
      "source": [
        "# Write a Pandas script to find the mean of a specific column in a DataFrame.\n",
        "\n",
        "import pandas as pd #Removed the extra space before the statement\n",
        "\n",
        "# Create a sample DataFrame\n",
        "data = {\n",
        "    'Name': ['Alice', 'Bob', 'Charlie', 'David'],\n",
        "    'Age': [25, 30, 35, 40],\n",
        "    'Salary': [50000, 60000, 70000, 80000]\n",
        "}\n",
        "\n",
        "df = pd.DataFrame(data)\n",
        "\n",
        "# Calculate the mean of the 'Salary' column\n",
        "mean_salary = df['Salary'].mean()\n",
        "\n",
        "print(\"Mean Salary:\", mean_salary)"
      ],
      "metadata": {
        "colab": {
          "base_uri": "https://localhost:8080/"
        },
        "id": "oPXAqGoJUV53",
        "outputId": "cbc5ba89-f1e9-4938-b917-bb6e0b4dfae1"
      },
      "execution_count": 4,
      "outputs": [
        {
          "output_type": "stream",
          "name": "stdout",
          "text": [
            "Mean Salary: 65000.0\n"
          ]
        }
      ]
    },
    {
      "cell_type": "code",
      "source": [
        "# Create a scatter plot using Matplotlib.\n",
        "import matplotlib.pyplot as plt #Removed the extra space before the import statement\n",
        "\n",
        "# Sample data\n",
        "x = [1, 2, 3, 4, 5]\n",
        "y = [5, 4, 3, 2, 1]\n",
        "\n",
        "# Create the scatter plot\n",
        "plt.scatter(x, y, color='blue', marker='o')\n",
        "\n",
        "# Add labels and title\n",
        "plt.xlabel('X Axis')\n",
        "plt.ylabel('Y Axis')\n",
        "plt.title('Simple Scatter Plot')\n",
        "\n",
        "# Show the plot\n",
        "plt.show()"
      ],
      "metadata": {
        "colab": {
          "base_uri": "https://localhost:8080/",
          "height": 472
        },
        "id": "1Wz7RfjZUZ7e",
        "outputId": "60a83e33-5d01-43b3-c96a-723b666f41af"
      },
      "execution_count": 6,
      "outputs": [
        {
          "output_type": "display_data",
          "data": {
            "text/plain": [
              "<Figure size 640x480 with 1 Axes>"
            ],
            "image/png": "[encoded data removed]"
          },
          "metadata": {}
        }
      ]
    },
    {
      "cell_type": "code",
      "source": [
        "# How do you calculate the correlation matrix using Seaborn and visualize it with a heatmap?\n",
        "\n",
        "import pandas as pd\n",
        "import seaborn as sns\n",
        "import matplotlib.pyplot as plt\n",
        "\n",
        "# Sample DataFrame\n",
        "data = {\n",
        "    'Math': [85, 90, 78, 92, 88],\n",
        "    'Science': [80, 85, 75, 89, 84],\n",
        "    'English': [78, 82, 74, 88, 81]\n",
        "}\n",
        "\n",
        "df = pd.DataFrame(data)\n",
        "\n",
        "# Calculate correlation matrix\n",
        "corr_matrix = df.corr()\n",
        "\n",
        "# Plot heatmap\n",
        "sns.heatmap(corr_matrix, annot=True, cmap='coolwarm', linewidths=0.5)\n",
        "plt.title('Correlation Matrix Heatmap')\n",
        "plt.show()"
      ],
      "metadata": {
        "colab": {
          "base_uri": "https://localhost:8080/",
          "height": 452
        },
        "id": "fZk9PBYNUise",
        "outputId": "2f0bc870-6cd1-4110-a081-dc4ced31c58d"
      },
      "execution_count": 8,
      "outputs": [
        {
          "output_type": "display_data",
          "data": {
            "text/plain": [
              "<Figure size 640x480 with 2 Axes>"
            ],
            "image/png": "[encoded data removed]"
          },
          "metadata": {}
        }
      ]
    },
    {
      "cell_type": "code",
      "source": [
        "# Generate a bar plot using Plotly.\n",
        "import plotly.express as px #Removed the extra space before the statement\n",
        "\n",
        "# Sample data\n",
        "data = {\n",
        "    'Fruits': ['Apples', 'Oranges', 'Bananas', 'Grapes'],\n",
        "    'Quantity': [10, 15, 7, 12]\n",
        "}\n",
        "\n",
        "# Create DataFrame\n",
        "import pandas as pd\n",
        "df = pd.DataFrame(data)\n",
        "\n",
        "# Create bar plot\n",
        "fig = px.bar(df, x='Fruits', y='Quantity', title='Fruit Sales')\n",
        "\n",
        "# Show the plot\n",
        "fig.show()"
      ],
      "metadata": {
        "colab": {
          "base_uri": "https://localhost:8080/",
          "height": 542
        },
        "id": "ar0I1ulAUyjK",
        "outputId": "f041ca59-db4f-4e61-9881-a40d24697c7f"
      },
      "execution_count": 10,
      "outputs": [
        {
          "output_type": "display_data",
          "data": {
            "text/html": [
              "<html>\n",
              "<head><meta charset=\"utf-8\" /></head>\n",
              "<body>\n",
              "    <div>            <script src=\"https://cdnjs.cloudflare.com/ajax/libs/mathjax/2.7.5/MathJax.js?config=TeX-AMS-MML_SVG\"></script><script type=\"text/javascript\">if (window.MathJax && window.MathJax.Hub && window.MathJax.Hub.Config) {window.MathJax.Hub.Config({SVG: {font: \"STIX-Web\"}});}</script>                <script type=\"text/javascript\">window.PlotlyConfig = {MathJaxConfig: 'local'};</script>\n",
              "        <script charset=\"utf-8\" src=\"https://cdn.plot.ly/plotly-2.35.2.min.js\"></script>                <div id=\"e874bd62-5860-4964-9bc2-90e2c4a23052\" class=\"plotly-graph-div\" style=\"height:525px; width:100%;\"></div>            <script type=\"text/javascript\">                                    window.PLOTLYENV=window.PLOTLYENV || {};                                    if (document.getElementById(\"e874bd62-5860-4964-9bc2-90e2c4a23052\")) {                    Plotly.newPlot(                        \"e874bd62-5860-4964-9bc2-90e2c4a23052\",                        [{\"alignmentgroup\":\"True\",\"hovertemplate\":\"Fruits=%{x}\\u003cbr\\u003eQuantity=%{y}\\u003cextra\\u003e\\u003c\\u002fextra\\u003e\",\"legendgroup\":\"\",\"marker\":{\"color\":\"#636efa\",\"pattern\":{\"shape\":\"\"}},\"name\":\"\",\"offsetgroup\":\"\",\"orientation\":\"v\",\"showlegend\":false,\"textposition\":\"auto\",\"x\":[\"Apples\",\"Oranges\",\"Bananas\",\"Grapes\"],\"xaxis\":\"x\",\"y\":[10,15,7,12],\"yaxis\":\"y\",\"type\":\"bar\"}],                        {\"template\":{\"data\":{\"histogram2dcontour\":[{\"type\":\"histogram2dcontour\",\"colorbar\":{\"outlinewidth\":0,\"ticks\":\"\"},\"colorscale\":[[0.0,\"#0d0887\"],[0.1111111111111111,\"#46039f\"],[0.2222222222222222,\"#7201a8\"],[0.3333333333333333,\"#9c179e\"],[0.4444444444444444,\"#bd3786\"],[0.5555555555555556,\"#d8576b\"],[0.6666666666666666,\"#ed7953\"],[0.7777777777777778,\"#fb9f3a\"],[0.8888888888888888,\"#fdca26\"],[1.0,\"#f0f921\"]]}],\"choropleth\":[{\"type\":\"choropleth\",\"colorbar\":{\"outlinewidth\":0,\"ticks\":\"\"}}],\"histogram2d\":[{\"type\":\"histogram2d\",\"colorbar\":{\"outlinewidth\":0,\"ticks\":\"\"},\"colorscale\":[[0.0,\"#0d0887\"],[0.1111111111111111,\"#46039f\"],[0.2222222222222222,\"#7201a8\"],[0.3333333333333333,\"#9c179e\"],[0.4444444444444444,\"#bd3786\"],[0.5555555555555556,\"#d8576b\"],[0.6666666666666666,\"#ed7953\"],[0.7777777777777778,\"#fb9f3a\"],[0.8888888888888888,\"#fdca26\"],[1.0,\"#f0f921\"]]}],\"heatmap\":[{\"type\":\"heatmap\",\"colorbar\":{\"outlinewidth\":0,\"ticks\":\"\"},\"colorscale\":[[0.0,\"#0d0887\"],[0.1111111111111111,\"#46039f\"],[0.2222222222222222,\"#7201a8\"],[0.3333333333333333,\"#9c179e\"],[0.4444444444444444,\"#bd3786\"],[0.5555555555555556,\"#d8576b\"],[0.6666666666666666,\"#ed7953\"],[0.7777777777777778,\"#fb9f3a\"],[0.8888888888888888,\"#fdca26\"],[1.0,\"#f0f921\"]]}],\"heatmapgl\":[{\"type\":\"heatmapgl\",\"colorbar\":{\"outlinewidth\":0,\"ticks\":\"\"},\"colorscale\":[[0.0,\"#0d0887\"],[0.1111111111111111,\"#46039f\"],[0.2222222222222222,\"#7201a8\"],[0.3333333333333333,\"#9c179e\"],[0.4444444444444444,\"#bd3786\"],[0.5555555555555556,\"#d8576b\"],[0.6666666666666666,\"#ed7953\"],[0.7777777777777778,\"#fb9f3a\"],[0.8888888888888888,\"#fdca26\"],[1.0,\"#f0f921\"]]}],\"contourcarpet\":[{\"type\":\"contourcarpet\",\"colorbar\":{\"outlinewidth\":0,\"ticks\":\"\"}}],\"contour\":[{\"type\":\"contour\",\"colorbar\":{\"outlinewidth\":0,\"ticks\":\"\"},\"colorscale\":[[0.0,\"#0d0887\"],[0.1111111111111111,\"#46039f\"],[0.2222222222222222,\"#7201a8\"],[0.3333333333333333,\"#9c179e\"],[0.4444444444444444,\"#bd3786\"],[0.5555555555555556,\"#d8576b\"],[0.6666666666666666,\"#ed7953\"],[0.7777777777777778,\"#fb9f3a\"],[0.8888888888888888,\"#fdca26\"],[1.0,\"#f0f921\"]]}],\"surface\":[{\"type\":\"surface\",\"colorbar\":{\"outlinewidth\":0,\"ticks\":\"\"},\"colorscale\":[[0.0,\"#0d0887\"],[0.1111111111111111,\"#46039f\"],[0.2222222222222222,\"#7201a8\"],[0.3333333333333333,\"#9c179e\"],[0.4444444444444444,\"#bd3786\"],[0.5555555555555556,\"#d8576b\"],[0.6666666666666666,\"#ed7953\"],[0.7777777777777778,\"#fb9f3a\"],[0.8888888888888888,\"#fdca26\"],[1.0,\"#f0f921\"]]}],\"mesh3d\":[{\"type\":\"mesh3d\",\"colorbar\":{\"outlinewidth\":0,\"ticks\":\"\"}}],\"scatter\":[{\"fillpattern\":{\"fillmode\":\"overlay\",\"size\":10,\"solidity\":0.2},\"type\":\"scatter\"}],\"parcoords\":[{\"type\":\"parcoords\",\"line\":{\"colorbar\":{\"outlinewidth\":0,\"ticks\":\"\"}}}],\"scatterpolargl\":[{\"type\":\"scatterpolargl\",\"marker\":{\"colorbar\":{\"outlinewidth\":0,\"ticks\":\"\"}}}],\"bar\":[{\"error_x\":{\"color\":\"#2a3f5f\"},\"error_y\":{\"color\":\"#2a3f5f\"},\"marker\":{\"line\":{\"color\":\"#E5ECF6\",\"width\":0.5},\"pattern\":{\"fillmode\":\"overlay\",\"size\":10,\"solidity\":0.2}},\"type\":\"bar\"}],\"scattergeo\":[{\"type\":\"scattergeo\",\"marker\":{\"colorbar\":{\"outlinewidth\":0,\"ticks\":\"\"}}}],\"scatterpolar\":[{\"type\":\"scatterpolar\",\"marker\":{\"colorbar\":{\"outlinewidth\":0,\"ticks\":\"\"}}}],\"histogram\":[{\"marker\":{\"pattern\":{\"fillmode\":\"overlay\",\"size\":10,\"solidity\":0.2}},\"type\":\"histogram\"}],\"scattergl\":[{\"type\":\"scattergl\",\"marker\":{\"colorbar\":{\"outlinewidth\":0,\"ticks\":\"\"}}}],\"scatter3d\":[{\"type\":\"scatter3d\",\"line\":{\"colorbar\":{\"outlinewidth\":0,\"ticks\":\"\"}},\"marker\":{\"colorbar\":{\"outlinewidth\":0,\"ticks\":\"\"}}}],\"scattermapbox\":[{\"type\":\"scattermapbox\",\"marker\":{\"colorbar\":{\"outlinewidth\":0,\"ticks\":\"\"}}}],\"scatterternary\":[{\"type\":\"scatterternary\",\"marker\":{\"colorbar\":{\"outlinewidth\":0,\"ticks\":\"\"}}}],\"scattercarpet\":[{\"type\":\"scattercarpet\",\"marker\":{\"colorbar\":{\"outlinewidth\":0,\"ticks\":\"\"}}}],\"carpet\":[{\"aaxis\":{\"endlinecolor\":\"#2a3f5f\",\"gridcolor\":\"white\",\"linecolor\":\"white\",\"minorgridcolor\":\"white\",\"startlinecolor\":\"#2a3f5f\"},\"baxis\":{\"endlinecolor\":\"#2a3f5f\",\"gridcolor\":\"white\",\"linecolor\":\"white\",\"minorgridcolor\":\"white\",\"startlinecolor\":\"#2a3f5f\"},\"type\":\"carpet\"}],\"table\":[{\"cells\":{\"fill\":{\"color\":\"#EBF0F8\"},\"line\":{\"color\":\"white\"}},\"header\":{\"fill\":{\"color\":\"#C8D4E3\"},\"line\":{\"color\":\"white\"}},\"type\":\"table\"}],\"barpolar\":[{\"marker\":{\"line\":{\"color\":\"#E5ECF6\",\"width\":0.5},\"pattern\":{\"fillmode\":\"overlay\",\"size\":10,\"solidity\":0.2}},\"type\":\"barpolar\"}],\"pie\":[{\"automargin\":true,\"type\":\"pie\"}]},\"layout\":{\"autotypenumbers\":\"strict\",\"colorway\":[\"#636efa\",\"#EF553B\",\"#00cc96\",\"#ab63fa\",\"#FFA15A\",\"#19d3f3\",\"#FF6692\",\"#B6E880\",\"#FF97FF\",\"#FECB52\"],\"font\":{\"color\":\"#2a3f5f\"},\"hovermode\":\"closest\",\"hoverlabel\":{\"align\":\"left\"},\"paper_bgcolor\":\"white\",\"plot_bgcolor\":\"#E5ECF6\",\"polar\":{\"bgcolor\":\"#E5ECF6\",\"angularaxis\":{\"gridcolor\":\"white\",\"linecolor\":\"white\",\"ticks\":\"\"},\"radialaxis\":{\"gridcolor\":\"white\",\"linecolor\":\"white\",\"ticks\":\"\"}},\"ternary\":{\"bgcolor\":\"#E5ECF6\",\"aaxis\":{\"gridcolor\":\"white\",\"linecolor\":\"white\",\"ticks\":\"\"},\"baxis\":{\"gridcolor\":\"white\",\"linecolor\":\"white\",\"ticks\":\"\"},\"caxis\":{\"gridcolor\":\"white\",\"linecolor\":\"white\",\"ticks\":\"\"}},\"coloraxis\":{\"colorbar\":{\"outlinewidth\":0,\"ticks\":\"\"}},\"colorscale\":{\"sequential\":[[0.0,\"#0d0887\"],[0.1111111111111111,\"#46039f\"],[0.2222222222222222,\"#7201a8\"],[0.3333333333333333,\"#9c179e\"],[0.4444444444444444,\"#bd3786\"],[0.5555555555555556,\"#d8576b\"],[0.6666666666666666,\"#ed7953\"],[0.7777777777777778,\"#fb9f3a\"],[0.8888888888888888,\"#fdca26\"],[1.0,\"#f0f921\"]],\"sequentialminus\":[[0.0,\"#0d0887\"],[0.1111111111111111,\"#46039f\"],[0.2222222222222222,\"#7201a8\"],[0.3333333333333333,\"#9c179e\"],[0.4444444444444444,\"#bd3786\"],[0.5555555555555556,\"#d8576b\"],[0.6666666666666666,\"#ed7953\"],[0.7777777777777778,\"#fb9f3a\"],[0.8888888888888888,\"#fdca26\"],[1.0,\"#f0f921\"]],\"diverging\":[[0,\"#8e0152\"],[0.1,\"#c51b7d\"],[0.2,\"#de77ae\"],[0.3,\"#f1b6da\"],[0.4,\"#fde0ef\"],[0.5,\"#f7f7f7\"],[0.6,\"#e6f5d0\"],[0.7,\"#b8e186\"],[0.8,\"#7fbc41\"],[0.9,\"#4d9221\"],[1,\"#276419\"]]},\"xaxis\":{\"gridcolor\":\"white\",\"linecolor\":\"white\",\"ticks\":\"\",\"title\":{\"standoff\":15},\"zerolinecolor\":\"white\",\"automargin\":true,\"zerolinewidth\":2},\"yaxis\":{\"gridcolor\":\"white\",\"linecolor\":\"white\",\"ticks\":\"\",\"title\":{\"standoff\":15},\"zerolinecolor\":\"white\",\"automargin\":true,\"zerolinewidth\":2},\"scene\":{\"xaxis\":{\"backgroundcolor\":\"#E5ECF6\",\"gridcolor\":\"white\",\"linecolor\":\"white\",\"showbackground\":true,\"ticks\":\"\",\"zerolinecolor\":\"white\",\"gridwidth\":2},\"yaxis\":{\"backgroundcolor\":\"#E5ECF6\",\"gridcolor\":\"white\",\"linecolor\":\"white\",\"showbackground\":true,\"ticks\":\"\",\"zerolinecolor\":\"white\",\"gridwidth\":2},\"zaxis\":{\"backgroundcolor\":\"#E5ECF6\",\"gridcolor\":\"white\",\"linecolor\":\"white\",\"showbackground\":true,\"ticks\":\"\",\"zerolinecolor\":\"white\",\"gridwidth\":2}},\"shapedefaults\":{\"line\":{\"color\":\"#2a3f5f\"}},\"annotationdefaults\":{\"arrowcolor\":\"#2a3f5f\",\"arrowhead\":0,\"arrowwidth\":1},\"geo\":{\"bgcolor\":\"white\",\"landcolor\":\"#E5ECF6\",\"subunitcolor\":\"white\",\"showland\":true,\"showlakes\":true,\"lakecolor\":\"white\"},\"title\":{\"x\":0.05},\"mapbox\":{\"style\":\"light\"}}},\"xaxis\":{\"anchor\":\"y\",\"domain\":[0.0,1.0],\"title\":{\"text\":\"Fruits\"}},\"yaxis\":{\"anchor\":\"x\",\"domain\":[0.0,1.0],\"title\":{\"text\":\"Quantity\"}},\"legend\":{\"tracegroupgap\":0},\"title\":{\"text\":\"Fruit Sales\"},\"barmode\":\"relative\"},                        {\"responsive\": true}                    ).then(function(){\n",
              "                            \n",
              "var gd = document.getElementById('e874bd62-5860-4964-9bc2-90e2c4a23052');\n",
              "var x = new MutationObserver(function (mutations, observer) {{\n",
              "        var display = window.getComputedStyle(gd).display;\n",
              "        if (!display || display === 'none') {{\n",
              "            console.log([gd, 'removed!']);\n",
              "            Plotly.purge(gd);\n",
              "            observer.disconnect();\n",
              "        }}\n",
              "}});\n",
              "\n",
              "// Listen for the removal of the full notebook cells\n",
              "var notebookContainer = gd.closest('#notebook-container');\n",
              "if (notebookContainer) {{\n",
              "    x.observe(notebookContainer, {childList: true});\n",
              "}}\n",
              "\n",
              "// Listen for the clearing of the current output cell\n",
              "var outputEl = gd.closest('.output');\n",
              "if (outputEl) {{\n",
              "    x.observe(outputEl, {childList: true});\n",
              "}}\n",
              "\n",
              "                        })                };                            </script>        </div>\n",
              "</body>\n",
              "</html>"
            ]
          },
          "metadata": {}
        }
      ]
    },
    {
      "cell_type": "code",
      "source": [
        "# Create a DataFrame and add a new column based on an existing column.\n",
        "import pandas as pd #Removed the extra space before the statement\n",
        "\n",
        "# Create a DataFrame\n",
        "data = {\n",
        "    'Name': ['Alice', 'Bob', 'Charlie'],\n",
        "    'Salary': [50000, 60000, 70000]\n",
        "}\n",
        "\n",
        "df = pd.DataFrame(data)\n",
        "\n",
        "# Add a new column 'Tax' as 10% of 'Salary'\n",
        "df['Tax'] = df['Salary'] * 0.10\n",
        "\n",
        "# Display the updated DataFrame\n",
        "print(df)"
      ],
      "metadata": {
        "colab": {
          "base_uri": "https://localhost:8080/"
        },
        "id": "l1Ko0B_2VYBA",
        "outputId": "9386e7e3-a79d-455f-eebd-bc93edbde8c0"
      },
      "execution_count": 12,
      "outputs": [
        {
          "output_type": "stream",
          "name": "stdout",
          "text": [
            "      Name  Salary     Tax\n",
            "0    Alice   50000  5000.0\n",
            "1      Bob   60000  6000.0\n",
            "2  Charlie   70000  7000.0\n"
          ]
        }
      ]
    },
    {
      "cell_type": "code",
      "source": [
        "# Write a program to perform element-wise multiplication of two NumPy arrays.\n",
        "import numpy as np\n",
        "\n",
        "# Define two NumPy arrays\n",
        "array1 = np.array([1, 2, 3, 4])\n",
        "array2 = np.array([5, 6, 7, 8])\n",
        "\n",
        "# Element-wise multiplication\n",
        "result = array1 * array2\n",
        "\n",
        "# Print the result\n",
        "print(\"Array 1:\", array1)\n",
        "print(\"Array 2:\", array2)\n",
        "print(\"Element-wise multiplication:\", result)\n"
      ],
      "metadata": {
        "colab": {
          "base_uri": "https://localhost:8080/"
        },
        "id": "UGqjEXwgVmnB",
        "outputId": "aec195e5-2cae-41cd-a1dd-5424374b8129"
      },
      "execution_count": 14,
      "outputs": [
        {
          "output_type": "stream",
          "name": "stdout",
          "text": [
            "Array 1: [1 2 3 4]\n",
            "Array 2: [5 6 7 8]\n",
            "Element-wise multiplication: [ 5 12 21 32]\n"
          ]
        }
      ]
    },
    {
      "cell_type": "code",
      "source": [
        "# Create a line plot with multiple lines using Matplotlib.\n",
        "import matplotlib.pyplot as plt # Removed extra space at the beginning\n",
        "\n",
        "# Sample data\n",
        "x = [1, 2, 3, 4, 5]\n",
        "y1 = [2, 3, 5, 7, 11]      # Line 1\n",
        "y2 = [1, 4, 6, 8, 10]      # Line 2\n",
        "y3 = [3, 5, 2, 6, 9]       # Line 3\n",
        "\n",
        "# Create the plot\n",
        "plt.plot(x, y1, label='Line 1', color='blue', marker='o')\n",
        "plt.plot(x, y2, label='Line 2', color='green', marker='s')\n",
        "plt.plot(x, y3, label='Line 3', color='red', marker='^')\n",
        "\n",
        "# Add title and labels\n",
        "plt.title('Multiple Line Plot')\n",
        "plt.xlabel('X Axis')\n",
        "plt.ylabel('Y Axis')\n",
        "\n",
        "# Show legend\n",
        "plt.legend()\n",
        "\n",
        "# Display the plot\n",
        "plt.grid(True)\n",
        "plt.show()"
      ],
      "metadata": {
        "colab": {
          "base_uri": "https://localhost:8080/",
          "height": 472
        },
        "id": "Y32_wNQ7Vxy-",
        "outputId": "68ff3af4-8a54-45b6-dbde-bf85df8ac37e"
      },
      "execution_count": 16,
      "outputs": [
        {
          "output_type": "display_data",
          "data": {
            "text/plain": [
              "<Figure size 640x480 with 1 Axes>"
            ],
            "image/png": "[encoded data removed]"
          },
          "metadata": {}
        }
      ]
    },
    {
      "cell_type": "code",
      "source": [
        "# Generate a Pandas DataFrame and filter rows where a column value is greater than a threshold.\n",
        "\n",
        "import pandas as pd # Removed the extra space before 'import'\n",
        "\n",
        "# Create a sample DataFrame\n",
        "data = {\n",
        "    'Name': ['Alice', 'Bob', 'Charlie', 'David'],\n",
        "    'Age': [25, 32, 18, 45]\n",
        "}\n",
        "\n",
        "df = pd.DataFrame(data)\n",
        "\n",
        "# Set a threshold\n",
        "threshold = 30\n",
        "\n",
        "# Filter rows where Age > threshold\n",
        "filtered_df = df[df['Age'] > threshold]\n",
        "\n",
        "# Display the result\n",
        "print(\"Filtered DataFrame (Age > 30):\")\n",
        "print(filtered_df)"
      ],
      "metadata": {
        "colab": {
          "base_uri": "https://localhost:8080/"
        },
        "id": "JjkDwfEDV9_3",
        "outputId": "35b7bae8-edf6-49d6-9388-6d89c590fc9f"
      },
      "execution_count": 18,
      "outputs": [
        {
          "output_type": "stream",
          "name": "stdout",
          "text": [
            "Filtered DataFrame (Age > 30):\n",
            "    Name  Age\n",
            "1    Bob   32\n",
            "3  David   45\n"
          ]
        }
      ]
    },
    {
      "cell_type": "code",
      "source": [
        "# Create a histogram using Seaborn to visualize a distribution.\n",
        "\n",
        "import seaborn as sns # Fixed: Removed the extra spaces/indentation\n",
        "import matplotlib.pyplot as plt\n",
        "import numpy as np\n",
        "\n",
        "# Generate some random data (normal distribution)\n",
        "data = np.random.randn(1000)\n",
        "\n",
        "# Create the histogram\n",
        "sns.histplot(data, bins=30, kde=True, color='skyblue')\n",
        "\n",
        "# Add title and labels\n",
        "plt.title('Distribution Histogram')\n",
        "plt.xlabel('Value')\n",
        "plt.ylabel('Frequency')\n",
        "\n",
        "# Show the plot\n",
        "plt.show()"
      ],
      "metadata": {
        "colab": {
          "base_uri": "https://localhost:8080/",
          "height": 472
        },
        "id": "DJZINAtmWHDL",
        "outputId": "8a3318c8-24d1-4314-e9c1-2ce3ad4c447a"
      },
      "execution_count": 20,
      "outputs": [
        {
          "output_type": "display_data",
          "data": {
            "text/plain": [
              "<Figure size 640x480 with 1 Axes>"
            ],
            "image/png": "[encoded data removed]"
          },
          "metadata": {}
        }
      ]
    },
    {
      "cell_type": "code",
      "source": [
        "# Perform matrix multiplication using NumPy.\n",
        "import numpy as np\n",
        "\n",
        "# Define two matrices\n",
        "A = np.array([[1, 2], [3, 4]])\n",
        "B = np.array([[5, 6], [7, 8]])\n",
        "\n",
        "# Matrix multiplication using np.dot()\n",
        "result = np.dot(A, B)\n",
        "\n",
        "# Alternatively, you can use the @ operator (introduced in Python 3.5)\n",
        "# result = A @ B\n",
        "\n",
        "# Print the result\n",
        "print(\"Matrix A:\")\n",
        "print(A)\n",
        "\n",
        "print(\"Matrix B:\")\n",
        "print(B)\n",
        "\n",
        "print(\"Matrix multiplication result:\")\n",
        "print(result)"
      ],
      "metadata": {
        "colab": {
          "base_uri": "https://localhost:8080/"
        },
        "id": "yjYsQf2dWRJe",
        "outputId": "57456f86-9ec5-47ff-b9cf-744799868a38"
      },
      "execution_count": 22,
      "outputs": [
        {
          "output_type": "stream",
          "name": "stdout",
          "text": [
            "Matrix A:\n",
            "[[1 2]\n",
            " [3 4]]\n",
            "Matrix B:\n",
            "[[5 6]\n",
            " [7 8]]\n",
            "Matrix multiplication result:\n",
            "[[19 22]\n",
            " [43 50]]\n"
          ]
        }
      ]
    },
    {
      "cell_type": "code",
      "source": [
        "# Create a 3D scatter plot using Plotly.\n",
        "import plotly.express as px # Fixed: Removed extra indentation\n",
        "import pandas as pd\n",
        "\n",
        "# Sample DataFrame for 3D scatter plot\n",
        "data = {\n",
        "    'x': [1, 2, 3, 4, 5],\n",
        "    'y': [10, 11, 12, 13, 14],\n",
        "    'z': [100, 200, 300, 400, 500]\n",
        "}\n",
        "\n",
        "df = pd.DataFrame(data)\n",
        "\n",
        "# Create a 3D scatter plot\n",
        "fig = px.scatter_3d(df, x='x', y='y', z='z', title='3D Scatter Plot')\n",
        "\n",
        "# Show the plot\n",
        "fig.show()"
      ],
      "metadata": {
        "colab": {
          "base_uri": "https://localhost:8080/",
          "height": 542
        },
        "id": "XtaQat4YXHEF",
        "outputId": "79a8ec62-093c-44fb-879a-82ee5e26e128"
      },
      "execution_count": 28,
      "outputs": [
        {
          "output_type": "display_data",
          "data": {
            "text/html": [
              "<html>\n",
              "<head><meta charset=\"utf-8\" /></head>\n",
              "<body>\n",
              "    <div>            <script src=\"https://cdnjs.cloudflare.com/ajax/libs/mathjax/2.7.5/MathJax.js?config=TeX-AMS-MML_SVG\"></script><script type=\"text/javascript\">if (window.MathJax && window.MathJax.Hub && window.MathJax.Hub.Config) {window.MathJax.Hub.Config({SVG: {font: \"STIX-Web\"}});}</script>                <script type=\"text/javascript\">window.PlotlyConfig = {MathJaxConfig: 'local'};</script>\n",
              "        <script charset=\"utf-8\" src=\"https://cdn.plot.ly/plotly-2.35.2.min.js\"></script>                <div id=\"31a1e0c0-87a0-4e1a-9ce4-113536d62f6a\" class=\"plotly-graph-div\" style=\"height:525px; width:100%;\"></div>            <script type=\"text/javascript\">                                    window.PLOTLYENV=window.PLOTLYENV || {};                                    if (document.getElementById(\"31a1e0c0-87a0-4e1a-9ce4-113536d62f6a\")) {                    Plotly.newPlot(                        \"31a1e0c0-87a0-4e1a-9ce4-113536d62f6a\",                        [{\"hovertemplate\":\"x=%{x}\\u003cbr\\u003ey=%{y}\\u003cbr\\u003ez=%{z}\\u003cextra\\u003e\\u003c\\u002fextra\\u003e\",\"legendgroup\":\"\",\"marker\":{\"color\":\"#636efa\",\"symbol\":\"circle\"},\"mode\":\"markers\",\"name\":\"\",\"scene\":\"scene\",\"showlegend\":false,\"x\":[1,2,3,4,5],\"y\":[10,11,12,13,14],\"z\":[100,200,300,400,500],\"type\":\"scatter3d\"}],                        {\"template\":{\"data\":{\"histogram2dcontour\":[{\"type\":\"histogram2dcontour\",\"colorbar\":{\"outlinewidth\":0,\"ticks\":\"\"},\"colorscale\":[[0.0,\"#0d0887\"],[0.1111111111111111,\"#46039f\"],[0.2222222222222222,\"#7201a8\"],[0.3333333333333333,\"#9c179e\"],[0.4444444444444444,\"#bd3786\"],[0.5555555555555556,\"#d8576b\"],[0.6666666666666666,\"#ed7953\"],[0.7777777777777778,\"#fb9f3a\"],[0.8888888888888888,\"#fdca26\"],[1.0,\"#f0f921\"]]}],\"choropleth\":[{\"type\":\"choropleth\",\"colorbar\":{\"outlinewidth\":0,\"ticks\":\"\"}}],\"histogram2d\":[{\"type\":\"histogram2d\",\"colorbar\":{\"outlinewidth\":0,\"ticks\":\"\"},\"colorscale\":[[0.0,\"#0d0887\"],[0.1111111111111111,\"#46039f\"],[0.2222222222222222,\"#7201a8\"],[0.3333333333333333,\"#9c179e\"],[0.4444444444444444,\"#bd3786\"],[0.5555555555555556,\"#d8576b\"],[0.6666666666666666,\"#ed7953\"],[0.7777777777777778,\"#fb9f3a\"],[0.8888888888888888,\"#fdca26\"],[1.0,\"#f0f921\"]]}],\"heatmap\":[{\"type\":\"heatmap\",\"colorbar\":{\"outlinewidth\":0,\"ticks\":\"\"},\"colorscale\":[[0.0,\"#0d0887\"],[0.1111111111111111,\"#46039f\"],[0.2222222222222222,\"#7201a8\"],[0.3333333333333333,\"#9c179e\"],[0.4444444444444444,\"#bd3786\"],[0.5555555555555556,\"#d8576b\"],[0.6666666666666666,\"#ed7953\"],[0.7777777777777778,\"#fb9f3a\"],[0.8888888888888888,\"#fdca26\"],[1.0,\"#f0f921\"]]}],\"heatmapgl\":[{\"type\":\"heatmapgl\",\"colorbar\":{\"outlinewidth\":0,\"ticks\":\"\"},\"colorscale\":[[0.0,\"#0d0887\"],[0.1111111111111111,\"#46039f\"],[0.2222222222222222,\"#7201a8\"],[0.3333333333333333,\"#9c179e\"],[0.4444444444444444,\"#bd3786\"],[0.5555555555555556,\"#d8576b\"],[0.6666666666666666,\"#ed7953\"],[0.7777777777777778,\"#fb9f3a\"],[0.8888888888888888,\"#fdca26\"],[1.0,\"#f0f921\"]]}],\"contourcarpet\":[{\"type\":\"contourcarpet\",\"colorbar\":{\"outlinewidth\":0,\"ticks\":\"\"}}],\"contour\":[{\"type\":\"contour\",\"colorbar\":{\"outlinewidth\":0,\"ticks\":\"\"},\"colorscale\":[[0.0,\"#0d0887\"],[0.1111111111111111,\"#46039f\"],[0.2222222222222222,\"#7201a8\"],[0.3333333333333333,\"#9c179e\"],[0.4444444444444444,\"#bd3786\"],[0.5555555555555556,\"#d8576b\"],[0.6666666666666666,\"#ed7953\"],[0.7777777777777778,\"#fb9f3a\"],[0.8888888888888888,\"#fdca26\"],[1.0,\"#f0f921\"]]}],\"surface\":[{\"type\":\"surface\",\"colorbar\":{\"outlinewidth\":0,\"ticks\":\"\"},\"colorscale\":[[0.0,\"#0d0887\"],[0.1111111111111111,\"#46039f\"],[0.2222222222222222,\"#7201a8\"],[0.3333333333333333,\"#9c179e\"],[0.4444444444444444,\"#bd3786\"],[0.5555555555555556,\"#d8576b\"],[0.6666666666666666,\"#ed7953\"],[0.7777777777777778,\"#fb9f3a\"],[0.8888888888888888,\"#fdca26\"],[1.0,\"#f0f921\"]]}],\"mesh3d\":[{\"type\":\"mesh3d\",\"colorbar\":{\"outlinewidth\":0,\"ticks\":\"\"}}],\"scatter\":[{\"fillpattern\":{\"fillmode\":\"overlay\",\"size\":10,\"solidity\":0.2},\"type\":\"scatter\"}],\"parcoords\":[{\"type\":\"parcoords\",\"line\":{\"colorbar\":{\"outlinewidth\":0,\"ticks\":\"\"}}}],\"scatterpolargl\":[{\"type\":\"scatterpolargl\",\"marker\":{\"colorbar\":{\"outlinewidth\":0,\"ticks\":\"\"}}}],\"bar\":[{\"error_x\":{\"color\":\"#2a3f5f\"},\"error_y\":{\"color\":\"#2a3f5f\"},\"marker\":{\"line\":{\"color\":\"#E5ECF6\",\"width\":0.5},\"pattern\":{\"fillmode\":\"overlay\",\"size\":10,\"solidity\":0.2}},\"type\":\"bar\"}],\"scattergeo\":[{\"type\":\"scattergeo\",\"marker\":{\"colorbar\":{\"outlinewidth\":0,\"ticks\":\"\"}}}],\"scatterpolar\":[{\"type\":\"scatterpolar\",\"marker\":{\"colorbar\":{\"outlinewidth\":0,\"ticks\":\"\"}}}],\"histogram\":[{\"marker\":{\"pattern\":{\"fillmode\":\"overlay\",\"size\":10,\"solidity\":0.2}},\"type\":\"histogram\"}],\"scattergl\":[{\"type\":\"scattergl\",\"marker\":{\"colorbar\":{\"outlinewidth\":0,\"ticks\":\"\"}}}],\"scatter3d\":[{\"type\":\"scatter3d\",\"line\":{\"colorbar\":{\"outlinewidth\":0,\"ticks\":\"\"}},\"marker\":{\"colorbar\":{\"outlinewidth\":0,\"ticks\":\"\"}}}],\"scattermapbox\":[{\"type\":\"scattermapbox\",\"marker\":{\"colorbar\":{\"outlinewidth\":0,\"ticks\":\"\"}}}],\"scatterternary\":[{\"type\":\"scatterternary\",\"marker\":{\"colorbar\":{\"outlinewidth\":0,\"ticks\":\"\"}}}],\"scattercarpet\":[{\"type\":\"scattercarpet\",\"marker\":{\"colorbar\":{\"outlinewidth\":0,\"ticks\":\"\"}}}],\"carpet\":[{\"aaxis\":{\"endlinecolor\":\"#2a3f5f\",\"gridcolor\":\"white\",\"linecolor\":\"white\",\"minorgridcolor\":\"white\",\"startlinecolor\":\"#2a3f5f\"},\"baxis\":{\"endlinecolor\":\"#2a3f5f\",\"gridcolor\":\"white\",\"linecolor\":\"white\",\"minorgridcolor\":\"white\",\"startlinecolor\":\"#2a3f5f\"},\"type\":\"carpet\"}],\"table\":[{\"cells\":{\"fill\":{\"color\":\"#EBF0F8\"},\"line\":{\"color\":\"white\"}},\"header\":{\"fill\":{\"color\":\"#C8D4E3\"},\"line\":{\"color\":\"white\"}},\"type\":\"table\"}],\"barpolar\":[{\"marker\":{\"line\":{\"color\":\"#E5ECF6\",\"width\":0.5},\"pattern\":{\"fillmode\":\"overlay\",\"size\":10,\"solidity\":0.2}},\"type\":\"barpolar\"}],\"pie\":[{\"automargin\":true,\"type\":\"pie\"}]},\"layout\":{\"autotypenumbers\":\"strict\",\"colorway\":[\"#636efa\",\"#EF553B\",\"#00cc96\",\"#ab63fa\",\"#FFA15A\",\"#19d3f3\",\"#FF6692\",\"#B6E880\",\"#FF97FF\",\"#FECB52\"],\"font\":{\"color\":\"#2a3f5f\"},\"hovermode\":\"closest\",\"hoverlabel\":{\"align\":\"left\"},\"paper_bgcolor\":\"white\",\"plot_bgcolor\":\"#E5ECF6\",\"polar\":{\"bgcolor\":\"#E5ECF6\",\"angularaxis\":{\"gridcolor\":\"white\",\"linecolor\":\"white\",\"ticks\":\"\"},\"radialaxis\":{\"gridcolor\":\"white\",\"linecolor\":\"white\",\"ticks\":\"\"}},\"ternary\":{\"bgcolor\":\"#E5ECF6\",\"aaxis\":{\"gridcolor\":\"white\",\"linecolor\":\"white\",\"ticks\":\"\"},\"baxis\":{\"gridcolor\":\"white\",\"linecolor\":\"white\",\"ticks\":\"\"},\"caxis\":{\"gridcolor\":\"white\",\"linecolor\":\"white\",\"ticks\":\"\"}},\"coloraxis\":{\"colorbar\":{\"outlinewidth\":0,\"ticks\":\"\"}},\"colorscale\":{\"sequential\":[[0.0,\"#0d0887\"],[0.1111111111111111,\"#46039f\"],[0.2222222222222222,\"#7201a8\"],[0.3333333333333333,\"#9c179e\"],[0.4444444444444444,\"#bd3786\"],[0.5555555555555556,\"#d8576b\"],[0.6666666666666666,\"#ed7953\"],[0.7777777777777778,\"#fb9f3a\"],[0.8888888888888888,\"#fdca26\"],[1.0,\"#f0f921\"]],\"sequentialminus\":[[0.0,\"#0d0887\"],[0.1111111111111111,\"#46039f\"],[0.2222222222222222,\"#7201a8\"],[0.3333333333333333,\"#9c179e\"],[0.4444444444444444,\"#bd3786\"],[0.5555555555555556,\"#d8576b\"],[0.6666666666666666,\"#ed7953\"],[0.7777777777777778,\"#fb9f3a\"],[0.8888888888888888,\"#fdca26\"],[1.0,\"#f0f921\"]],\"diverging\":[[0,\"#8e0152\"],[0.1,\"#c51b7d\"],[0.2,\"#de77ae\"],[0.3,\"#f1b6da\"],[0.4,\"#fde0ef\"],[0.5,\"#f7f7f7\"],[0.6,\"#e6f5d0\"],[0.7,\"#b8e186\"],[0.8,\"#7fbc41\"],[0.9,\"#4d9221\"],[1,\"#276419\"]]},\"xaxis\":{\"gridcolor\":\"white\",\"linecolor\":\"white\",\"ticks\":\"\",\"title\":{\"standoff\":15},\"zerolinecolor\":\"white\",\"automargin\":true,\"zerolinewidth\":2},\"yaxis\":{\"gridcolor\":\"white\",\"linecolor\":\"white\",\"ticks\":\"\",\"title\":{\"standoff\":15},\"zerolinecolor\":\"white\",\"automargin\":true,\"zerolinewidth\":2},\"scene\":{\"xaxis\":{\"backgroundcolor\":\"#E5ECF6\",\"gridcolor\":\"white\",\"linecolor\":\"white\",\"showbackground\":true,\"ticks\":\"\",\"zerolinecolor\":\"white\",\"gridwidth\":2},\"yaxis\":{\"backgroundcolor\":\"#E5ECF6\",\"gridcolor\":\"white\",\"linecolor\":\"white\",\"showbackground\":true,\"ticks\":\"\",\"zerolinecolor\":\"white\",\"gridwidth\":2},\"zaxis\":{\"backgroundcolor\":\"#E5ECF6\",\"gridcolor\":\"white\",\"linecolor\":\"white\",\"showbackground\":true,\"ticks\":\"\",\"zerolinecolor\":\"white\",\"gridwidth\":2}},\"shapedefaults\":{\"line\":{\"color\":\"#2a3f5f\"}},\"annotationdefaults\":{\"arrowcolor\":\"#2a3f5f\",\"arrowhead\":0,\"arrowwidth\":1},\"geo\":{\"bgcolor\":\"white\",\"landcolor\":\"#E5ECF6\",\"subunitcolor\":\"white\",\"showland\":true,\"showlakes\":true,\"lakecolor\":\"white\"},\"title\":{\"x\":0.05},\"mapbox\":{\"style\":\"light\"}}},\"scene\":{\"domain\":{\"x\":[0.0,1.0],\"y\":[0.0,1.0]},\"xaxis\":{\"title\":{\"text\":\"x\"}},\"yaxis\":{\"title\":{\"text\":\"y\"}},\"zaxis\":{\"title\":{\"text\":\"z\"}}},\"legend\":{\"tracegroupgap\":0},\"title\":{\"text\":\"3D Scatter Plot\"}},                        {\"responsive\": true}                    ).then(function(){\n",
              "                            \n",
              "var gd = document.getElementById('31a1e0c0-87a0-4e1a-9ce4-113536d62f6a');\n",
              "var x = new MutationObserver(function (mutations, observer) {{\n",
              "        var display = window.getComputedStyle(gd).display;\n",
              "        if (!display || display === 'none') {{\n",
              "            console.log([gd, 'removed!']);\n",
              "            Plotly.purge(gd);\n",
              "            observer.disconnect();\n",
              "        }}\n",
              "}});\n",
              "\n",
              "// Listen for the removal of the full notebook cells\n",
              "var notebookContainer = gd.closest('#notebook-container');\n",
              "if (notebookContainer) {{\n",
              "    x.observe(notebookContainer, {childList: true});\n",
              "}}\n",
              "\n",
              "// Listen for the clearing of the current output cell\n",
              "var outputEl = gd.closest('.output');\n",
              "if (outputEl) {{\n",
              "    x.observe(outputEl, {childList: true});\n",
              "}}\n",
              "\n",
              "                        })                };                            </script>        </div>\n",
              "</body>\n",
              "</html>"
            ]
          },
          "metadata": {}
        }
      ]
    },
    {
      "cell_type": "code",
      "source": [],
      "metadata": {
        "id": "rGBPWvuMXY5W"
      },
      "execution_count": null,
      "outputs": []
    }
  ]
}